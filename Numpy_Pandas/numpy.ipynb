{
 "cells": [
  {
   "cell_type": "markdown",
   "id": "a04e64d8-1829-4f23-8e27-d485ef730be2",
   "metadata": {},
   "source": [
    "# Numpy"
   ]
  },
  {
   "cell_type": "code",
   "execution_count": 1,
   "id": "525064a0-1e52-4b3b-a2cb-7cbb60c037e6",
   "metadata": {},
   "outputs": [],
   "source": [
    "import numpy as np\n",
    "import pandas as pd"
   ]
  },
  {
   "cell_type": "code",
   "execution_count": 2,
   "id": "869b7c63-dc34-4f5b-be91-508541ea02d6",
   "metadata": {},
   "outputs": [
    {
     "data": {
      "text/plain": [
       "array([0.16035291, 0.28046137, 0.80267374, 0.17818557, 0.16576872,\n",
       "       0.86037922, 0.63952371, 0.74417732, 0.75187699, 0.61902794,\n",
       "       0.43328699, 0.03725637, 0.26866143, 0.27958169, 0.64393405,\n",
       "       0.84703158, 0.82202824, 0.37855636, 0.16489046, 0.84954879])"
      ]
     },
     "execution_count": 2,
     "metadata": {},
     "output_type": "execute_result"
    }
   ],
   "source": [
    "data  = np.random.rand(20)\n",
    "data"
   ]
  },
  {
   "cell_type": "code",
   "execution_count": 3,
   "id": "9eaad22e-1494-4a31-b2f2-45725d6dd0f7",
   "metadata": {},
   "outputs": [
    {
     "data": {
      "text/plain": [
       "dtype('float64')"
      ]
     },
     "execution_count": 3,
     "metadata": {},
     "output_type": "execute_result"
    }
   ],
   "source": [
    "data.dtype"
   ]
  },
  {
   "cell_type": "code",
   "execution_count": 4,
   "id": "984b4368-7bac-4c8a-96bc-0e82ebfdd867",
   "metadata": {},
   "outputs": [
    {
     "data": {
      "text/plain": [
       "(20,)"
      ]
     },
     "execution_count": 4,
     "metadata": {},
     "output_type": "execute_result"
    }
   ],
   "source": [
    "data.shape"
   ]
  },
  {
   "cell_type": "code",
   "execution_count": 5,
   "id": "54b129af-124b-4fa6-88ff-67eb54f75763",
   "metadata": {},
   "outputs": [
    {
     "data": {
      "text/plain": [
       "20"
      ]
     },
     "execution_count": 5,
     "metadata": {},
     "output_type": "execute_result"
    }
   ],
   "source": [
    "data.size"
   ]
  },
  {
   "cell_type": "code",
   "execution_count": 6,
   "id": "d601fa90-fd5b-487a-b525-bd4735f24a81",
   "metadata": {},
   "outputs": [
    {
     "data": {
      "text/plain": [
       "array([0.80267374, 0.86037922, 0.63952371, 0.74417732, 0.75187699,\n",
       "       0.61902794, 0.64393405, 0.84703158, 0.82202824, 0.84954879])"
      ]
     },
     "execution_count": 6,
     "metadata": {},
     "output_type": "execute_result"
    }
   ],
   "source": [
    "len(data[ data > 0.5] )\n",
    "(data[ data > 0.5] )"
   ]
  },
  {
   "cell_type": "code",
   "execution_count": 7,
   "id": "11bccf17-82f1-4335-8db6-0a7da568a5c0",
   "metadata": {},
   "outputs": [
    {
     "data": {
      "text/plain": [
       "array([[0.33400281, 0.56602063, 0.91705256],\n",
       "       [0.66329161, 0.60795667, 0.84533688],\n",
       "       [0.13194888, 0.81342462, 0.67554881],\n",
       "       [0.21043528, 0.81759514, 0.53615887],\n",
       "       [0.98324273, 0.42589865, 0.13597834],\n",
       "       [0.67940776, 0.78089276, 0.14209655],\n",
       "       [0.38450655, 0.17778399, 0.81369252],\n",
       "       [0.58639568, 0.70311686, 0.53555039],\n",
       "       [0.68361017, 0.76986898, 0.97088463],\n",
       "       [0.296718  , 0.7897508 , 0.38490433]])"
      ]
     },
     "execution_count": 7,
     "metadata": {},
     "output_type": "execute_result"
    }
   ],
   "source": [
    "numpydata2D  = np.random.rand(10,3)\n",
    "numpydata2D"
   ]
  },
  {
   "cell_type": "code",
   "execution_count": 8,
   "id": "8ae1059c-8fe8-44f9-82bc-a424e4ef6591",
   "metadata": {},
   "outputs": [
    {
     "data": {
      "text/html": [
       "<div>\n",
       "<style scoped>\n",
       "    .dataframe tbody tr th:only-of-type {\n",
       "        vertical-align: middle;\n",
       "    }\n",
       "\n",
       "    .dataframe tbody tr th {\n",
       "        vertical-align: top;\n",
       "    }\n",
       "\n",
       "    .dataframe thead th {\n",
       "        text-align: right;\n",
       "    }\n",
       "</style>\n",
       "<table border=\"1\" class=\"dataframe\">\n",
       "  <thead>\n",
       "    <tr style=\"text-align: right;\">\n",
       "      <th></th>\n",
       "      <th>A</th>\n",
       "      <th>B</th>\n",
       "      <th>C</th>\n",
       "    </tr>\n",
       "  </thead>\n",
       "  <tbody>\n",
       "    <tr>\n",
       "      <th>a</th>\n",
       "      <td>0.334003</td>\n",
       "      <td>0.566021</td>\n",
       "      <td>0.917053</td>\n",
       "    </tr>\n",
       "    <tr>\n",
       "      <th>b</th>\n",
       "      <td>0.663292</td>\n",
       "      <td>0.607957</td>\n",
       "      <td>0.845337</td>\n",
       "    </tr>\n",
       "    <tr>\n",
       "      <th>c</th>\n",
       "      <td>0.131949</td>\n",
       "      <td>0.813425</td>\n",
       "      <td>0.675549</td>\n",
       "    </tr>\n",
       "    <tr>\n",
       "      <th>d</th>\n",
       "      <td>0.210435</td>\n",
       "      <td>0.817595</td>\n",
       "      <td>0.536159</td>\n",
       "    </tr>\n",
       "    <tr>\n",
       "      <th>e</th>\n",
       "      <td>0.983243</td>\n",
       "      <td>0.425899</td>\n",
       "      <td>0.135978</td>\n",
       "    </tr>\n",
       "    <tr>\n",
       "      <th>f</th>\n",
       "      <td>0.679408</td>\n",
       "      <td>0.780893</td>\n",
       "      <td>0.142097</td>\n",
       "    </tr>\n",
       "    <tr>\n",
       "      <th>g</th>\n",
       "      <td>0.384507</td>\n",
       "      <td>0.177784</td>\n",
       "      <td>0.813693</td>\n",
       "    </tr>\n",
       "    <tr>\n",
       "      <th>h</th>\n",
       "      <td>0.586396</td>\n",
       "      <td>0.703117</td>\n",
       "      <td>0.535550</td>\n",
       "    </tr>\n",
       "    <tr>\n",
       "      <th>i</th>\n",
       "      <td>0.683610</td>\n",
       "      <td>0.769869</td>\n",
       "      <td>0.970885</td>\n",
       "    </tr>\n",
       "    <tr>\n",
       "      <th>j</th>\n",
       "      <td>0.296718</td>\n",
       "      <td>0.789751</td>\n",
       "      <td>0.384904</td>\n",
       "    </tr>\n",
       "  </tbody>\n",
       "</table>\n",
       "</div>"
      ],
      "text/plain": [
       "          A         B         C\n",
       "a  0.334003  0.566021  0.917053\n",
       "b  0.663292  0.607957  0.845337\n",
       "c  0.131949  0.813425  0.675549\n",
       "d  0.210435  0.817595  0.536159\n",
       "e  0.983243  0.425899  0.135978\n",
       "f  0.679408  0.780893  0.142097\n",
       "g  0.384507  0.177784  0.813693\n",
       "h  0.586396  0.703117  0.535550\n",
       "i  0.683610  0.769869  0.970885\n",
       "j  0.296718  0.789751  0.384904"
      ]
     },
     "execution_count": 8,
     "metadata": {},
     "output_type": "execute_result"
    }
   ],
   "source": [
    "date = pd.date_range('today', periods = 10)\n",
    "columns = list('ABC')\n",
    "rows = list('abcdefghij')\n",
    "dff = pd.DataFrame(numpydata2D, columns = columns, index=rows)\n",
    "dff"
   ]
  },
  {
   "cell_type": "code",
   "execution_count": null,
   "id": "85617476-51a7-46cd-872a-1b3737e6f1c1",
   "metadata": {},
   "outputs": [],
   "source": []
  },
  {
   "cell_type": "code",
   "execution_count": 9,
   "id": "ab83db5c-36f1-42ba-85af-d0a1f8995a17",
   "metadata": {},
   "outputs": [
    {
     "data": {
      "text/plain": [
       "array([[0., 0., 0., 0., 0., 0.],\n",
       "       [0., 0., 0., 0., 0., 0.]])"
      ]
     },
     "execution_count": 9,
     "metadata": {},
     "output_type": "execute_result"
    }
   ],
   "source": [
    "zero = np.zeros((2,6))\n",
    "zero"
   ]
  },
  {
   "cell_type": "code",
   "execution_count": 10,
   "id": "c018818f-cdd4-4a03-83ef-6dc93e657852",
   "metadata": {},
   "outputs": [
    {
     "data": {
      "text/plain": [
       "array([[1., 1., 1.]])"
      ]
     },
     "execution_count": 10,
     "metadata": {},
     "output_type": "execute_result"
    }
   ],
   "source": [
    "once = np.ones((1,3))\n",
    "once"
   ]
  },
  {
   "cell_type": "code",
   "execution_count": 11,
   "id": "3ce0f30a-ca34-4b46-bb5b-59b592a6a7ad",
   "metadata": {},
   "outputs": [
    {
     "data": {
      "text/plain": [
       "array([1, 2, 3, 4, 5, 6, 7, 8, 9])"
      ]
     },
     "execution_count": 11,
     "metadata": {},
     "output_type": "execute_result"
    }
   ],
   "source": [
    "lst = np.arange(1,10)\n",
    "lst"
   ]
  },
  {
   "cell_type": "code",
   "execution_count": 12,
   "id": "62216d5c-7847-4f46-865b-44cf01eaeab7",
   "metadata": {},
   "outputs": [
    {
     "data": {
      "text/plain": [
       "array([[1, 2, 3],\n",
       "       [4, 5, 6],\n",
       "       [7, 8, 9]])"
      ]
     },
     "execution_count": 12,
     "metadata": {},
     "output_type": "execute_result"
    }
   ],
   "source": [
    "lst = lst.reshape(3,3)\n",
    "arr = lst.copy() \n",
    "lst"
   ]
  },
  {
   "cell_type": "code",
   "execution_count": 13,
   "id": "2210fd91-1766-4f05-9f07-1b5ddbb33ee5",
   "metadata": {},
   "outputs": [
    {
     "data": {
      "text/plain": [
       "array([1, 2, 3, 4, 5, 6, 7, 8, 9])"
      ]
     },
     "execution_count": 13,
     "metadata": {},
     "output_type": "execute_result"
    }
   ],
   "source": [
    "lst = lst.ravel()\n",
    "lst"
   ]
  },
  {
   "cell_type": "code",
   "execution_count": 14,
   "id": "e86cb7ae-826a-45b8-9fb0-7b05feaad52a",
   "metadata": {},
   "outputs": [
    {
     "data": {
      "text/plain": [
       "array([1, 2, 3, 4, 5, 6, 7, 1, 0])"
      ]
     },
     "execution_count": 14,
     "metadata": {},
     "output_type": "execute_result"
    }
   ],
   "source": [
    "l1 = [1,2,3,4,5,6,7,1,0]\n",
    "nparr = np.array(l1)\n",
    "nparr"
   ]
  },
  {
   "cell_type": "code",
   "execution_count": 15,
   "id": "379a24df-a6b9-41f9-a705-7faee056314b",
   "metadata": {},
   "outputs": [
    {
     "data": {
      "text/plain": [
       "1"
      ]
     },
     "execution_count": 15,
     "metadata": {},
     "output_type": "execute_result"
    }
   ],
   "source": [
    "nparr.ndim"
   ]
  },
  {
   "cell_type": "code",
   "execution_count": 16,
   "id": "fe9eba74-9ccf-4029-82af-7f9603efb91e",
   "metadata": {},
   "outputs": [
    {
     "data": {
      "text/plain": [
       "9"
      ]
     },
     "execution_count": 16,
     "metadata": {},
     "output_type": "execute_result"
    }
   ],
   "source": [
    "nparr.size"
   ]
  },
  {
   "cell_type": "code",
   "execution_count": 17,
   "id": "2626fc2e-d02c-45e9-b035-fce143c9d7c1",
   "metadata": {},
   "outputs": [
    {
     "data": {
      "text/plain": [
       "6"
      ]
     },
     "execution_count": 17,
     "metadata": {},
     "output_type": "execute_result"
    }
   ],
   "source": [
    "nparr.argmax()"
   ]
  },
  {
   "cell_type": "code",
   "execution_count": 18,
   "id": "a2917f4b-c790-4813-bbca-97342efe983c",
   "metadata": {},
   "outputs": [
    {
     "data": {
      "text/plain": [
       "8"
      ]
     },
     "execution_count": 18,
     "metadata": {},
     "output_type": "execute_result"
    }
   ],
   "source": [
    "nparr.argmin()"
   ]
  },
  {
   "cell_type": "code",
   "execution_count": 19,
   "id": "648f0e4a-4d89-4e04-8ec8-e88a740117f2",
   "metadata": {},
   "outputs": [
    {
     "data": {
      "text/plain": [
       "array([8, 0, 7, 1, 2, 3, 4, 5, 6], dtype=int64)"
      ]
     },
     "execution_count": 19,
     "metadata": {},
     "output_type": "execute_result"
    }
   ],
   "source": [
    "nparr.argsort()"
   ]
  },
  {
   "cell_type": "code",
   "execution_count": 20,
   "id": "b8d42d96-dabe-4d84-9d59-51e8e69b9a73",
   "metadata": {},
   "outputs": [
    {
     "data": {
      "text/plain": [
       "array([[1, 2, 3],\n",
       "       [4, 5, 6],\n",
       "       [7, 8, 9]])"
      ]
     },
     "execution_count": 20,
     "metadata": {},
     "output_type": "execute_result"
    }
   ],
   "source": [
    "arr"
   ]
  },
  {
   "cell_type": "code",
   "execution_count": 23,
   "id": "6e9e757f-c2ad-4cdf-854e-671c4c0087bd",
   "metadata": {},
   "outputs": [
    {
     "data": {
      "text/plain": [
       "[[1, 2, 3], [3, 2, 6], [7, 5, 0]]"
      ]
     },
     "execution_count": 23,
     "metadata": {},
     "output_type": "execute_result"
    }
   ],
   "source": [
    "lst = [[1,2,3], [3,2,6], [7,5,0]]\n",
    "lst"
   ]
  },
  {
   "cell_type": "code",
   "execution_count": 27,
   "id": "2be262a6-0e9a-4bf5-8662-51f48262ec9e",
   "metadata": {},
   "outputs": [
    {
     "data": {
      "text/plain": [
       "array([[1, 2, 3],\n",
       "       [3, 2, 6],\n",
       "       [7, 5, 0]])"
      ]
     },
     "execution_count": 27,
     "metadata": {},
     "output_type": "execute_result"
    }
   ],
   "source": [
    "nparr = np.array(lst)\n",
    "nparr"
   ]
  },
  {
   "cell_type": "code",
   "execution_count": 28,
   "id": "02d6ffe8-665b-4868-a9c8-750291456a47",
   "metadata": {},
   "outputs": [
    {
     "data": {
      "text/plain": [
       "6"
      ]
     },
     "execution_count": 28,
     "metadata": {},
     "output_type": "execute_result"
    }
   ],
   "source": [
    "nparr.argmax()"
   ]
  },
  {
   "cell_type": "code",
   "execution_count": 29,
   "id": "58fa19e3-3997-439d-8f50-db0ea174de60",
   "metadata": {},
   "outputs": [
    {
     "data": {
      "text/plain": [
       "array([2, 2, 1], dtype=int64)"
      ]
     },
     "execution_count": 29,
     "metadata": {},
     "output_type": "execute_result"
    }
   ],
   "source": [
    "nparr.argmax(axis=0)"
   ]
  },
  {
   "cell_type": "code",
   "execution_count": 30,
   "id": "e7da71b1-28c6-488c-bc19-a26ccf1cb739",
   "metadata": {},
   "outputs": [
    {
     "data": {
      "text/plain": [
       "array([2, 2, 0], dtype=int64)"
      ]
     },
     "execution_count": 30,
     "metadata": {},
     "output_type": "execute_result"
    }
   ],
   "source": [
    "nparr.argmax(axis=1)"
   ]
  },
  {
   "cell_type": "code",
   "execution_count": 31,
   "id": "86dece42-bf0d-4048-9c85-0390e3baed79",
   "metadata": {},
   "outputs": [
    {
     "data": {
      "text/plain": [
       "array([[0, 1, 2],\n",
       "       [1, 0, 2],\n",
       "       [2, 1, 0]], dtype=int64)"
      ]
     },
     "execution_count": 31,
     "metadata": {},
     "output_type": "execute_result"
    }
   ],
   "source": [
    "nparr.argsort()"
   ]
  },
  {
   "cell_type": "code",
   "execution_count": 32,
   "id": "603027ae-a21e-460c-a47d-e75d2302d353",
   "metadata": {},
   "outputs": [
    {
     "data": {
      "text/plain": [
       "array([[0, 0, 2],\n",
       "       [1, 1, 0],\n",
       "       [2, 2, 1]], dtype=int64)"
      ]
     },
     "execution_count": 32,
     "metadata": {},
     "output_type": "execute_result"
    }
   ],
   "source": [
    "nparr.argsort(axis=0)"
   ]
  },
  {
   "cell_type": "code",
   "execution_count": 33,
   "id": "b964ff61-205b-49d9-a42a-4f0e8ccc1d57",
   "metadata": {},
   "outputs": [
    {
     "data": {
      "text/plain": [
       "array([[0, 1, 2],\n",
       "       [1, 0, 2],\n",
       "       [2, 1, 0]], dtype=int64)"
      ]
     },
     "execution_count": 33,
     "metadata": {},
     "output_type": "execute_result"
    }
   ],
   "source": [
    "nparr.argsort(axis=1)"
   ]
  },
  {
   "cell_type": "code",
   "execution_count": 37,
   "id": "048bb655-8c8e-4f38-b7a3-825dc297a2d3",
   "metadata": {},
   "outputs": [
    {
     "data": {
      "text/plain": [
       "7"
      ]
     },
     "execution_count": 37,
     "metadata": {},
     "output_type": "execute_result"
    }
   ],
   "source": [
    "nparr.max()"
   ]
  },
  {
   "cell_type": "code",
   "execution_count": 38,
   "id": "6ce373cd-73ef-4b87-89d1-ad70eb59f4a7",
   "metadata": {},
   "outputs": [
    {
     "data": {
      "text/plain": [
       "0"
      ]
     },
     "execution_count": 38,
     "metadata": {},
     "output_type": "execute_result"
    }
   ],
   "source": [
    "nparr.min()"
   ]
  },
  {
   "cell_type": "code",
   "execution_count": 39,
   "id": "30cbc690-b2c9-4c31-a1e0-e150cc071aec",
   "metadata": {},
   "outputs": [
    {
     "data": {
      "text/plain": [
       "False"
      ]
     },
     "execution_count": 39,
     "metadata": {},
     "output_type": "execute_result"
    }
   ],
   "source": [
    "nparr.all()"
   ]
  },
  {
   "cell_type": "code",
   "execution_count": 46,
   "id": "bee2d447-0bc3-4360-b5b6-cb6a17701cd2",
   "metadata": {},
   "outputs": [
    {
     "data": {
      "text/plain": [
       "True"
      ]
     },
     "execution_count": 46,
     "metadata": {},
     "output_type": "execute_result"
    }
   ],
   "source": [
    "lst = [1,2,3]\n",
    "ar = np.array(lst)\n",
    "ar.all()"
   ]
  },
  {
   "cell_type": "code",
   "execution_count": null,
   "id": "aeb17d08-0bc1-4336-bf7b-f38728991ccd",
   "metadata": {},
   "outputs": [],
   "source": []
  }
 ],
 "metadata": {
  "kernelspec": {
   "display_name": "Python 3 (ipykernel)",
   "language": "python",
   "name": "python3"
  },
  "language_info": {
   "codemirror_mode": {
    "name": "ipython",
    "version": 3
   },
   "file_extension": ".py",
   "mimetype": "text/x-python",
   "name": "python",
   "nbconvert_exporter": "python",
   "pygments_lexer": "ipython3",
   "version": "3.10.0"
  }
 },
 "nbformat": 4,
 "nbformat_minor": 5
}
